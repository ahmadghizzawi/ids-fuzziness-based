{
 "cells": [
  {
   "cell_type": "markdown",
   "metadata": {},
   "source": [
    "# Fuzziness based semi-supervised learning approach for intrusion detection system"
   ]
  },
  {
   "cell_type": "markdown",
   "metadata": {},
   "source": [
    "## Imports"
   ]
  },
  {
   "cell_type": "code",
   "execution_count": 3,
   "metadata": {},
   "outputs": [],
   "source": [
    "from keras.models import Sequential\n",
    "from keras.layers import Dense\n",
    "from sklearn import preprocessing\n",
    "import numpy as np\n",
    "from math import log\n",
    "\n",
    "from utils import load_data"
   ]
  },
  {
   "cell_type": "markdown",
   "metadata": {},
   "source": [
    "## Loading and Data Preprocessing"
   ]
  },
  {
   "cell_type": "code",
   "execution_count": 4,
   "metadata": {},
   "outputs": [
    {
     "name": "stdout",
     "output_type": "stream",
     "text": [
      "(2519, 41)\n",
      "(22673, 41)\n"
     ]
    }
   ],
   "source": [
    "datasets = load_data('20 Percent Training Set.csv', 'KDDTest+.csv')\n",
    "\n",
    "train_set_x, train_set_y = datasets[0]\n",
    "valid_set_x, valid_set_y = datasets[1]\n",
    "test_set_x, test_set_y = datasets[2]\n",
    "\n",
    "lb = preprocessing.LabelBinarizer()\n",
    "\n",
    "train_set_y = lb.fit_transform(train_set_y)\n",
    "valid_set_y = lb.transform(valid_set_y)\n",
    "test_set_y = lb.transform(test_set_y)\n",
    "\n",
    "print(train_set_x.shape)\n",
    "print(valid_set_x.shape)"
   ]
  },
  {
   "cell_type": "markdown",
   "metadata": {},
   "source": [
    "## Model"
   ]
  },
  {
   "cell_type": "markdown",
   "metadata": {},
   "source": [
    "### Train NNR using labelled data"
   ]
  },
  {
   "cell_type": "code",
   "execution_count": 5,
   "metadata": {},
   "outputs": [
    {
     "name": "stdout",
     "output_type": "stream",
     "text": [
      "(2519, 41)\n",
      "(2519, 5)\n",
      "Epoch 1/1\n",
      "2519/2519 [==============================] - 0s 104us/step - loss: 0.3907 - acc: 0.8345\n",
      "22543/22543 [==============================] - 1s 23us/step\n",
      "Accuracy:  0.833065695667\n"
     ]
    }
   ],
   "source": [
    "def train_classifier(X, y):\n",
    "    # create model\n",
    "    model = Sequential()\n",
    "    model.add(Dense(12, input_dim=41, activation='sigmoid'))\n",
    "    model.add(Dense(5, activation='softmax'))\n",
    "\n",
    "    # Compile model\n",
    "    model.compile(loss='binary_crossentropy', optimizer='sgd', metrics=['accuracy'])\n",
    "\n",
    "    # Fit the model\n",
    "    model.fit(X, y)\n",
    "    \n",
    "    return model\n",
    "\n",
    "print(train_set_x.shape)\n",
    "print(train_set_y.shape)\n",
    "\n",
    "model = train_classifier(train_set_x, train_set_y)\n",
    "\n",
    "score = model.evaluate(test_set_x, test_set_y)\n",
    "\n",
    "print(\"Accuracy: \", score[1])"
   ]
  },
  {
   "cell_type": "markdown",
   "metadata": {},
   "source": [
    "### Use the classifier to get the membership vector of each unlabelled sample"
   ]
  },
  {
   "cell_type": "code",
   "execution_count": 6,
   "metadata": {
    "collapsed": true
   },
   "outputs": [],
   "source": [
    "membershipVectors = model.predict(valid_set_x) # Membership Matrix\n",
    "\n",
    "binarizedLabels = (membershipVectors == membershipVectors.max(axis=1, keepdims=1)).astype(float)"
   ]
  },
  {
   "cell_type": "code",
   "execution_count": 7,
   "metadata": {},
   "outputs": [
    {
     "name": "stdout",
     "output_type": "stream",
     "text": [
      "[[1 0 0 0 0]\n",
      " [1 0 0 0 0]\n",
      " [0 1 0 0 0]\n",
      " ..., \n",
      " [1 0 0 0 0]\n",
      " [0 1 0 0 0]\n",
      " [0 0 1 0 0]]\n"
     ]
    }
   ],
   "source": [
    "print(test_set_y)"
   ]
  },
  {
   "cell_type": "markdown",
   "metadata": {},
   "source": [
    "### Calculate Fuzziness using the following equation:\n",
    "$F(V)=-\\frac{1}{n}\\sum_{i=1}^{n}(\\mu_{i}\\log\\mu_{i} + (1 - \\mu_{i})\\log(1 - \\mu_{i}))$"
   ]
  },
  {
   "cell_type": "code",
   "execution_count": 8,
   "metadata": {},
   "outputs": [
    {
     "name": "stdout",
     "output_type": "stream",
     "text": [
      "0.529316712226\n"
     ]
    }
   ],
   "source": [
    "def F(V):\n",
    "    def inner(mu):\n",
    "        return (mu * log(mu, 2)) + ((1 - mu) * log(1 - mu, 2))\n",
    "    return - np.mean(list(map(inner, V)))\n",
    "\n",
    "fuzziness = np.array(list(map(F, membershipVectors)))\n",
    "\n",
    "print(fuzziness[0])"
   ]
  },
  {
   "cell_type": "markdown",
   "metadata": {},
   "source": [
    "### Add samples with low and high fuzziness to the training set"
   ]
  },
  {
   "cell_type": "code",
   "execution_count": 9,
   "metadata": {
    "collapsed": true
   },
   "outputs": [],
   "source": [
    "lowFuzzinessIndices = np.append(np.where( fuzziness >= 5/6), np.where( fuzziness <= 1/6 ) )\n",
    "highFuzzinessIndices = np.logical_and(fuzziness >= 2/6, fuzziness <= 2/3)\n",
    "\n",
    "# Fuzziness values >= 5/6\n",
    "lowFuzzinessGroup = valid_set_x[ lowFuzzinessIndices ]\n",
    "lowFuzzinessLabels = binarizedLabels[ lowFuzzinessIndices ]\n",
    "\n",
    "# Fuzziness values 2/6 <= x <= 2/3\n",
    "highFuzzinessGroup = valid_set_x[ highFuzzinessIndices ]\n",
    "highFuzzinessLabels = binarizedLabels [ highFuzzinessIndices ]\n",
    "\n",
    "# Append new samples to training set\n",
    "train_set_x = np.concatenate((train_set_x, lowFuzzinessGroup, highFuzzinessGroup), axis=0)\n",
    "\n",
    "train_set_y = np.concatenate((train_set_y, lowFuzzinessLabels, highFuzzinessLabels), axis=0)"
   ]
  },
  {
   "cell_type": "markdown",
   "metadata": {},
   "source": [
    "### Retrain the classifier with the new training set"
   ]
  },
  {
   "cell_type": "code",
   "execution_count": 10,
   "metadata": {},
   "outputs": [
    {
     "name": "stdout",
     "output_type": "stream",
     "text": [
      "(22135, 41)\n",
      "(22135, 5)\n",
      "Epoch 1/1\n",
      "22135/22135 [==============================] - 1s 43us/step - loss: 0.2384 - acc: 0.9109\n"
     ]
    }
   ],
   "source": [
    "print(train_set_x.shape)\n",
    "print(train_set_y.shape)\n",
    "model = train_classifier(train_set_x, train_set_y)"
   ]
  },
  {
   "cell_type": "markdown",
   "metadata": {},
   "source": [
    "## Evaluation"
   ]
  },
  {
   "cell_type": "code",
   "execution_count": 11,
   "metadata": {},
   "outputs": [
    {
     "name": "stdout",
     "output_type": "stream",
     "text": [
      "22543/22543 [==============================] - 0s 22us/step\n",
      "Accuracy:  0.839426866865\n"
     ]
    }
   ],
   "source": [
    "score = model.evaluate(test_set_x, test_set_y)\n",
    "\n",
    "print(\"Accuracy: \", score[1])"
   ]
  }
 ],
 "metadata": {
  "kernelspec": {
   "display_name": "Python 3",
   "language": "python",
   "name": "python3"
  },
  "language_info": {
   "codemirror_mode": {
    "name": "ipython",
    "version": 3
   },
   "file_extension": ".py",
   "mimetype": "text/x-python",
   "name": "python",
   "nbconvert_exporter": "python",
   "pygments_lexer": "ipython3",
   "version": "3.6.3"
  }
 },
 "nbformat": 4,
 "nbformat_minor": 2
}
